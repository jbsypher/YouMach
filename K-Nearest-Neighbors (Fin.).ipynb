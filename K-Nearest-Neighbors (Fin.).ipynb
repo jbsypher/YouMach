{
 "cells":[
  {
   "cell_type":"code",
   "source":[
    "import pandas as pd\n",
    "import numpy as np\n",
    "\n",
    "from sklearn.impute import SimpleImputer\n",
    "from sklearn.impute import KNNImputer\n",
    "from sklearn.model_selection import train_test_split\n",
    "from sklearn.preprocessing import StandardScaler\n",
    "from sklearn.neighbors import KNeighborsClassifier\n",
    "from sklearn.metrics import confusion_matrix\n",
    "from sklearn.metrics import f1_score\n",
    "from sklearn.metrics import accuracy_score"
   ],
   "execution_count":2,
   "outputs":[
    
   ],
   "metadata":{
    "datalore":{
     "node_id":"rrzwXDOgw4ljg7kvuVsvFj",
     "type":"CODE",
     "hide_input_from_viewers":true,
     "hide_output_from_viewers":true
    }
   }
  },
  {
   "cell_type":"code",
   "source":[
    "data = '\/data\/notebook_files\/marketing_sample_for_walmart_com-walmart_com_product__20210401_20210430__30k_data[1].csv'\n",
    "df = pd.read_csv(data, encoding= 'unicode_escape')\n",
    "\n",
    "#Turns all Strings into NaN\n",
    "new_df = df.apply (pd.to_numeric, errors='coerce')\n",
    "#Turns all Boolean Values to Integers\n",
    "new_df = new_df * 1\n",
    "#Removes Columns with only NaN\n",
    "new_df.dropna(how='all', axis=1, inplace=True)\n",
    "\n",
    "#Copies Data\n",
    "info = new_df.copy(deep=True)\n",
    "\n",
    "#Sklearn Multivariate KNN Imputation\n",
    "knn = KNNImputer(n_neighbors=2)\n",
    "knn.fit_transform(info)\n",
    "info.iloc[:,:] = knn.transform(info)\n",
    "\n",
    "#Sklearn Univariate Mean Imputation\n",
    "#info = new_df.copy(deep=True)\n",
    "#mean_imputer = SimpleImputer(strategy='mean')\n",
    "#info.iloc[:,:] = mean_imputer.fit_transform(info)\n",
    "\n",
    "info"
   ],
   "execution_count":12,
   "outputs":[
    {
     "data":{
      "text\/html":[
       "<div>\n",
       "<style scoped>\n",
       "    .dataframe tbody tr th:only-of-type {\n",
       "        vertical-align: middle;\n",
       "    }\n",
       "\n",
       "    .dataframe tbody tr th {\n",
       "        vertical-align: top;\n",
       "    }\n",
       "\n",
       "    .dataframe thead th {\n",
       "        text-align: right;\n",
       "    }\n",
       "<\/style>\n",
       "<table border=\"1\" class=\"dataframe\">\n",
       "  <thead>\n",
       "    <tr style=\"text-align: right;\">\n",
       "      <th><\/th>\n",
       "      <th>Num Of Reviews<\/th>\n",
       "      <th>Average Rating<\/th>\n",
       "      <th>Number Of Ratings<\/th>\n",
       "      <th>Model Num<\/th>\n",
       "      <th>Sku<\/th>\n",
       "      <th>Upc<\/th>\n",
       "      <th>Manufacturer<\/th>\n",
       "      <th>Model Name<\/th>\n",
       "      <th>Price<\/th>\n",
       "      <th>Stock<\/th>\n",
       "      <th>Color Category<\/th>\n",
       "      <th>Internal Memory<\/th>\n",
       "      <th>Screen Size<\/th>\n",
       "      <th>Five Star<\/th>\n",
       "      <th>Four Star<\/th>\n",
       "      <th>Three Star<\/th>\n",
       "      <th>Two Star<\/th>\n",
       "      <th>One Star<\/th>\n",
       "      <th>Discontinued<\/th>\n",
       "      <th>Broken Link<\/th>\n",
       "    <\/tr>\n",
       "  <\/thead>\n",
       "  <tbody>\n",
       "    <tr>\n",
       "      <th>0<\/th>\n",
       "      <td>0.0<\/td>\n",
       "      <td>3.95<\/td>\n",
       "      <td>0.0<\/td>\n",
       "      <td>3.894902e+11<\/td>\n",
       "      <td>891559867.0<\/td>\n",
       "      <td>6.595579e+11<\/td>\n",
       "      <td>4.899009e+12<\/td>\n",
       "      <td>3.894902e+11<\/td>\n",
       "      <td>29.99<\/td>\n",
       "      <td>1.0<\/td>\n",
       "      <td>4.5<\/td>\n",
       "      <td>16.0<\/td>\n",
       "      <td>5.8<\/td>\n",
       "      <td>55.0<\/td>\n",
       "      <td>7.0<\/td>\n",
       "      <td>5.5<\/td>\n",
       "      <td>2.5<\/td>\n",
       "      <td>2.5<\/td>\n",
       "      <td>0.0<\/td>\n",
       "      <td>0.0<\/td>\n",
       "    <\/tr>\n",
       "    <tr>\n",
       "      <th>1<\/th>\n",
       "      <td>0.0<\/td>\n",
       "      <td>2.70<\/td>\n",
       "      <td>0.0<\/td>\n",
       "      <td>1.016590e+06<\/td>\n",
       "      <td>910080586.0<\/td>\n",
       "      <td>7.878193e+11<\/td>\n",
       "      <td>4.899007e+12<\/td>\n",
       "      <td>1.016590e+06<\/td>\n",
       "      <td>28.90<\/td>\n",
       "      <td>1.0<\/td>\n",
       "      <td>4.5<\/td>\n",
       "      <td>16.0<\/td>\n",
       "      <td>5.8<\/td>\n",
       "      <td>2.0<\/td>\n",
       "      <td>1.0<\/td>\n",
       "      <td>0.5<\/td>\n",
       "      <td>0.0<\/td>\n",
       "      <td>0.5<\/td>\n",
       "      <td>0.0<\/td>\n",
       "      <td>0.0<\/td>\n",
       "    <\/tr>\n",
       "    <tr>\n",
       "      <th>2<\/th>\n",
       "      <td>0.0<\/td>\n",
       "      <td>2.35<\/td>\n",
       "      <td>0.0<\/td>\n",
       "      <td>1.172086e+06<\/td>\n",
       "      <td>971972031.0<\/td>\n",
       "      <td>7.878302e+11<\/td>\n",
       "      <td>4.899007e+12<\/td>\n",
       "      <td>1.172086e+06<\/td>\n",
       "      <td>48.29<\/td>\n",
       "      <td>0.0<\/td>\n",
       "      <td>3.5<\/td>\n",
       "      <td>16.0<\/td>\n",
       "      <td>5.8<\/td>\n",
       "      <td>1.0<\/td>\n",
       "      <td>0.5<\/td>\n",
       "      <td>0.0<\/td>\n",
       "      <td>0.0<\/td>\n",
       "      <td>2.0<\/td>\n",
       "      <td>0.0<\/td>\n",
       "      <td>0.0<\/td>\n",
       "    <\/tr>\n",
       "    <tr>\n",
       "      <th>3<\/th>\n",
       "      <td>0.0<\/td>\n",
       "      <td>3.40<\/td>\n",
       "      <td>0.0<\/td>\n",
       "      <td>4.032417e+11<\/td>\n",
       "      <td>900282065.0<\/td>\n",
       "      <td>8.060633e+11<\/td>\n",
       "      <td>4.899009e+12<\/td>\n",
       "      <td>4.032417e+11<\/td>\n",
       "      <td>12.99<\/td>\n",
       "      <td>1.0<\/td>\n",
       "      <td>4.5<\/td>\n",
       "      <td>16.0<\/td>\n",
       "      <td>5.8<\/td>\n",
       "      <td>1.5<\/td>\n",
       "      <td>1.5<\/td>\n",
       "      <td>0.5<\/td>\n",
       "      <td>0.5<\/td>\n",
       "      <td>2.5<\/td>\n",
       "      <td>0.0<\/td>\n",
       "      <td>0.0<\/td>\n",
       "    <\/tr>\n",
       "    <tr>\n",
       "      <th>4<\/th>\n",
       "      <td>0.0<\/td>\n",
       "      <td>4.05<\/td>\n",
       "      <td>0.0<\/td>\n",
       "      <td>1.214760e+06<\/td>\n",
       "      <td>293662167.0<\/td>\n",
       "      <td>4.720001e+11<\/td>\n",
       "      <td>4.899009e+12<\/td>\n",
       "      <td>1.214760e+06<\/td>\n",
       "      <td>154.99<\/td>\n",
       "      <td>1.0<\/td>\n",
       "      <td>8.0<\/td>\n",
       "      <td>16.0<\/td>\n",
       "      <td>5.8<\/td>\n",
       "      <td>87.0<\/td>\n",
       "      <td>19.0<\/td>\n",
       "      <td>14.0<\/td>\n",
       "      <td>8.0<\/td>\n",
       "      <td>15.0<\/td>\n",
       "      <td>0.0<\/td>\n",
       "      <td>0.0<\/td>\n",
       "    <\/tr>\n",
       "    <tr>\n",
       "      <th>...<\/th>\n",
       "      <td>...<\/td>\n",
       "      <td>...<\/td>\n",
       "      <td>...<\/td>\n",
       "      <td>...<\/td>\n",
       "      <td>...<\/td>\n",
       "      <td>...<\/td>\n",
       "      <td>...<\/td>\n",
       "      <td>...<\/td>\n",
       "      <td>...<\/td>\n",
       "      <td>...<\/td>\n",
       "      <td>...<\/td>\n",
       "      <td>...<\/td>\n",
       "      <td>...<\/td>\n",
       "      <td>...<\/td>\n",
       "      <td>...<\/td>\n",
       "      <td>...<\/td>\n",
       "      <td>...<\/td>\n",
       "      <td>...<\/td>\n",
       "      <td>...<\/td>\n",
       "      <td>...<\/td>\n",
       "    <\/tr>\n",
       "    <tr>\n",
       "      <th>29992<\/th>\n",
       "      <td>2.0<\/td>\n",
       "      <td>3.00<\/td>\n",
       "      <td>2.0<\/td>\n",
       "      <td>4.435730e+06<\/td>\n",
       "      <td>245001620.0<\/td>\n",
       "      <td>8.229272e+11<\/td>\n",
       "      <td>4.520775e+07<\/td>\n",
       "      <td>4.435730e+06<\/td>\n",
       "      <td>24.99<\/td>\n",
       "      <td>1.0<\/td>\n",
       "      <td>3.5<\/td>\n",
       "      <td>16.0<\/td>\n",
       "      <td>5.8<\/td>\n",
       "      <td>1.0<\/td>\n",
       "      <td>0.0<\/td>\n",
       "      <td>0.0<\/td>\n",
       "      <td>0.0<\/td>\n",
       "      <td>1.0<\/td>\n",
       "      <td>0.0<\/td>\n",
       "      <td>0.0<\/td>\n",
       "    <\/tr>\n",
       "    <tr>\n",
       "      <th>29993<\/th>\n",
       "      <td>0.0<\/td>\n",
       "      <td>4.30<\/td>\n",
       "      <td>0.0<\/td>\n",
       "      <td>4.412150e+05<\/td>\n",
       "      <td>153470080.0<\/td>\n",
       "      <td>8.187706e+11<\/td>\n",
       "      <td>4.520775e+07<\/td>\n",
       "      <td>4.412150e+05<\/td>\n",
       "      <td>9.97<\/td>\n",
       "      <td>1.0<\/td>\n",
       "      <td>7.0<\/td>\n",
       "      <td>16.0<\/td>\n",
       "      <td>5.8<\/td>\n",
       "      <td>65.0<\/td>\n",
       "      <td>17.0<\/td>\n",
       "      <td>4.0<\/td>\n",
       "      <td>5.0<\/td>\n",
       "      <td>11.0<\/td>\n",
       "      <td>0.0<\/td>\n",
       "      <td>0.0<\/td>\n",
       "    <\/tr>\n",
       "    <tr>\n",
       "      <th>29994<\/th>\n",
       "      <td>0.0<\/td>\n",
       "      <td>3.95<\/td>\n",
       "      <td>0.0<\/td>\n",
       "      <td>2.979486e+07<\/td>\n",
       "      <td>627214697.0<\/td>\n",
       "      <td>7.917064e+11<\/td>\n",
       "      <td>4.899007e+12<\/td>\n",
       "      <td>2.979486e+07<\/td>\n",
       "      <td>82.99<\/td>\n",
       "      <td>1.0<\/td>\n",
       "      <td>13.5<\/td>\n",
       "      <td>16.0<\/td>\n",
       "      <td>5.8<\/td>\n",
       "      <td>30.0<\/td>\n",
       "      <td>5.0<\/td>\n",
       "      <td>4.0<\/td>\n",
       "      <td>5.0<\/td>\n",
       "      <td>33.0<\/td>\n",
       "      <td>0.0<\/td>\n",
       "      <td>0.0<\/td>\n",
       "    <\/tr>\n",
       "    <tr>\n",
       "      <th>29995<\/th>\n",
       "      <td>0.0<\/td>\n",
       "      <td>4.00<\/td>\n",
       "      <td>0.0<\/td>\n",
       "      <td>8.755340e+11<\/td>\n",
       "      <td>172204189.0<\/td>\n",
       "      <td>3.011534e+11<\/td>\n",
       "      <td>4.899007e+12<\/td>\n",
       "      <td>8.755340e+11<\/td>\n",
       "      <td>106.47<\/td>\n",
       "      <td>1.0<\/td>\n",
       "      <td>8.5<\/td>\n",
       "      <td>16.0<\/td>\n",
       "      <td>5.8<\/td>\n",
       "      <td>1.0<\/td>\n",
       "      <td>0.0<\/td>\n",
       "      <td>0.0<\/td>\n",
       "      <td>0.0<\/td>\n",
       "      <td>0.5<\/td>\n",
       "      <td>0.0<\/td>\n",
       "      <td>0.0<\/td>\n",
       "    <\/tr>\n",
       "    <tr>\n",
       "      <th>29996<\/th>\n",
       "      <td>0.0<\/td>\n",
       "      <td>1.50<\/td>\n",
       "      <td>0.0<\/td>\n",
       "      <td>1.156406e+06<\/td>\n",
       "      <td>232363115.0<\/td>\n",
       "      <td>6.347820e+11<\/td>\n",
       "      <td>4.899009e+12<\/td>\n",
       "      <td>1.156406e+06<\/td>\n",
       "      <td>31.74<\/td>\n",
       "      <td>1.0<\/td>\n",
       "      <td>8.5<\/td>\n",
       "      <td>16.0<\/td>\n",
       "      <td>5.8<\/td>\n",
       "      <td>0.0<\/td>\n",
       "      <td>0.0<\/td>\n",
       "      <td>0.0<\/td>\n",
       "      <td>0.5<\/td>\n",
       "      <td>0.5<\/td>\n",
       "      <td>0.0<\/td>\n",
       "      <td>0.0<\/td>\n",
       "    <\/tr>\n",
       "  <\/tbody>\n",
       "<\/table>\n",
       "<p>29997 rows × 20 columns<\/p>\n",
       "<\/div>"
      ]
     },
     "metadata":{
      
     },
     "output_type":"display_data"
    }
   ],
   "metadata":{
    "datalore":{
     "node_id":"idpuchhaNppjckVI6j7Sjd",
     "type":"CODE",
     "hide_input_from_viewers":true,
     "hide_output_from_viewers":true
    }
   }
  },
  {
   "cell_type":"code",
   "source":[
    "df = pd.DataFrame(info, index=None)\n",
    "cols = len(df.axes[1])\n",
    "z = cols - 1\n",
    "X = info.iloc[:, 0:]\n",
    "y = info.iloc[:, z]\n",
    "\n",
    "X_train, X_test, y_train, y_test = train_test_split(X, y, random_state=0, test_size=0.2)"
   ],
   "execution_count":13,
   "outputs":[
    
   ],
   "metadata":{
    "datalore":{
     "node_id":"yEahzXa73Y0HGy0YmcyQPR",
     "type":"CODE",
     "hide_input_from_viewers":true,
     "hide_output_from_viewers":true
    }
   }
  },
  {
   "cell_type":"code",
   "source":[
    "sc_X = StandardScaler()\n",
    "X_train = sc_X.fit_transform(X_train)\n",
    "X_test = sc_X.transform(X_test)"
   ],
   "execution_count":14,
   "outputs":[
    
   ],
   "metadata":{
    "datalore":{
     "node_id":"7KyNugKOszvJ6NifD2XmV6",
     "type":"CODE",
     "hide_input_from_viewers":true,
     "hide_output_from_viewers":true
    }
   }
  },
  {
   "cell_type":"code",
   "source":[
    "classifier = KNeighborsClassifier(n_neighbors=11, p=2, metric='euclidean')"
   ],
   "execution_count":15,
   "outputs":[
    
   ],
   "metadata":{
    "datalore":{
     "node_id":"CnCzu7LXzRI4ZFBH9kVNHd",
     "type":"CODE",
     "hide_input_from_viewers":true,
     "hide_output_from_viewers":true
    }
   }
  },
  {
   "cell_type":"code",
   "source":[
    "classifier.fit(X_train, y_train)"
   ],
   "execution_count":16,
   "outputs":[
    {
     "data":{
      "text\/plain":[
       "KNeighborsClassifier(metric='euclidean', n_neighbors=11)"
      ]
     },
     "metadata":{
      
     },
     "output_type":"display_data"
    }
   ],
   "metadata":{
    "datalore":{
     "node_id":"SS2KWuQ6gdU7ujb4HfWAyD",
     "type":"CODE",
     "hide_input_from_viewers":true,
     "hide_output_from_viewers":true
    }
   }
  },
  {
   "cell_type":"code",
   "source":[
    "y_pred = classifier.predict(X_test)\n",
    "y_pred"
   ],
   "execution_count":17,
   "outputs":[
    {
     "name":"stderr",
     "text":[
      "\/opt\/python\/envs\/default\/lib\/python3.8\/site-packages\/sklearn\/neighbors\/_classification.py:228: FutureWarning: Unlike other reduction functions (e.g. `skew`, `kurtosis`), the default behavior of `mode` typically preserves the axis it acts along. In SciPy 1.11.0, this behavior will change: the default value of `keepdims` will become False, the `axis` over which the statistic is taken will be eliminated, and the value None will no longer be accepted. Set `keepdims` to True or False to avoid this warning.\n",
      "  mode, _ = stats.mode(_y[neigh_ind, k], axis=1)\n"
     ],
     "output_type":"stream"
    },
    {
     "data":{
      "text\/html":[
       "<pre>array([0., 0., 0., ..., 0., 0., 0.])<\/pre>"
      ]
     },
     "metadata":{
      
     },
     "output_type":"display_data"
    }
   ],
   "metadata":{
    "datalore":{
     "node_id":"KsWwc40SL5XVTUQkV9woFt",
     "type":"CODE",
     "hide_input_from_viewers":true,
     "hide_output_from_viewers":true
    }
   }
  },
  {
   "cell_type":"code",
   "source":[
    "cm = confusion_matrix(y_test, y_pred)\n",
    "print (cm)"
   ],
   "execution_count":18,
   "outputs":[
    {
     "name":"stdout",
     "text":[
      "[[5799    0]\n",
      " [   1  200]]\n"
     ],
     "output_type":"stream"
    }
   ],
   "metadata":{
    "datalore":{
     "node_id":"81MXg22Lbm6vWmOT1uysl4",
     "type":"CODE",
     "hide_input_from_viewers":true,
     "hide_output_from_viewers":true
    }
   }
  },
  {
   "cell_type":"code",
   "source":[
    "print(f1_score(y_test, y_pred))"
   ],
   "execution_count":19,
   "outputs":[
    {
     "name":"stdout",
     "text":[
      "0.9975062344139651\n"
     ],
     "output_type":"stream"
    }
   ],
   "metadata":{
    "datalore":{
     "node_id":"bwGaXQut0WIRCZdS8lX7h1",
     "type":"CODE",
     "hide_input_from_viewers":true,
     "hide_output_from_viewers":true
    }
   }
  },
  {
   "cell_type":"code",
   "source":[
    "print(\"K-Nearest-Neighbor\")\n",
    "print(accuracy_score(y_test, y_pred),\"percent accuracy\")"
   ],
   "execution_count":3,
   "outputs":[
    {
     "name":"stdout",
     "text":[
      "K-Nearest-Neighbor\n"
     ],
     "output_type":"stream"
    },
    {
     "ename":"NameError",
     "evalue":"NameError: name 'accuracy_score' is not defined",
     "traceback":[
      "\u001b[0;31m---------------------------------------------------------------------------",
      "Traceback (most recent call last)",
      "    at line 2 in <module>",
      "NameError: name 'accuracy_score' is not defined"
     ],
     "output_type":"error"
    }
   ],
   "metadata":{
    "datalore":{
     "node_id":"pIx1BTVmElBj04G6k4jnZS",
     "type":"CODE",
     "hide_input_from_viewers":true,
     "hide_output_from_viewers":true
    }
   }
  }
 ],
 "metadata":{
  "kernelspec":{
   "display_name":"Python",
   "language":"python",
   "name":"python"
  },
  "datalore":{
   "computation_mode":"JUPYTER",
   "package_manager":"pip",
   "base_environment":"default",
   "packages":[
    
   ],
   "report_row_ids":[
    
   ],
   "version":3
  }
 },
 "nbformat":4,
 "nbformat_minor":4
}